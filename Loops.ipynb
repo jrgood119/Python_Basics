{
 "cells": [
  {
   "cell_type": "markdown",
   "id": "dcbf2a24",
   "metadata": {},
   "source": [
    "Basic loop that prints all names in students list."
   ]
  },
  {
   "cell_type": "code",
   "execution_count": 11,
   "id": "aa70b0d5",
   "metadata": {},
   "outputs": [
    {
     "name": "stdout",
     "output_type": "stream",
     "text": [
      "Adam\n",
      "Ben\n",
      "Charles\n",
      "David\n",
      "Emily\n",
      "Frannie\n",
      "Gloria\n",
      "Hadley\n"
     ]
    }
   ],
   "source": [
    "students = [\"Adam\", \"Ben\", \"Charles\", \"David\", \"Emily\", \"Frannie\", \"Gloria\", \"Hadley\"]\n",
    "for name in students:\n",
    "    print(name)"
   ]
  },
  {
   "cell_type": "markdown",
   "id": "690e63e8",
   "metadata": {},
   "source": [
    "Similar concept, but prints each letter in string Kentucky."
   ]
  },
  {
   "cell_type": "code",
   "execution_count": 12,
   "id": "f053259b",
   "metadata": {},
   "outputs": [
    {
     "name": "stdout",
     "output_type": "stream",
     "text": [
      "K\n",
      "e\n",
      "n\n",
      "t\n",
      "u\n",
      "c\n",
      "k\n",
      "y\n"
     ]
    }
   ],
   "source": [
    "for letter in \"Kentucky\":\n",
    "    print(letter)"
   ]
  },
  {
   "cell_type": "markdown",
   "id": "0f49eb52",
   "metadata": {},
   "source": [
    "For loop that prints each integer between 1 and 20 (note that 21 is not printed). \n",
    "During the loop, the % is used to determine if the integer is even or odd and prints the correct statement.\n",
    "The .format at the end of the if and else statements let the program know what values to place inside the {}."
   ]
  },
  {
   "cell_type": "code",
   "execution_count": 13,
   "id": "82222ef9",
   "metadata": {},
   "outputs": [
    {
     "name": "stdout",
     "output_type": "stream",
     "text": [
      "1 is odd\n",
      "2 is even\n",
      "3 is odd\n",
      "4 is even\n",
      "5 is odd\n",
      "6 is even\n",
      "7 is odd\n",
      "8 is even\n",
      "9 is odd\n",
      "10 is even\n",
      "11 is odd\n",
      "12 is even\n",
      "13 is odd\n",
      "14 is even\n",
      "15 is odd\n",
      "16 is even\n",
      "17 is odd\n",
      "18 is even\n",
      "19 is odd\n",
      "20 is even\n"
     ]
    }
   ],
   "source": [
    "for x in range(1,21):\n",
    "    if x %2 == 0:\n",
    "        print(\"{} is even\".format(x))\n",
    "    else:\n",
    "        print(\"{} is odd\".format(x))"
   ]
  },
  {
   "cell_type": "markdown",
   "id": "8a152a60",
   "metadata": {},
   "source": [
    "An expanded for loop using similiar concepts, but this time values are stored within a list and then printed at the end.\n",
    "The greater_than_100 variable is used to detect outliers in a list of family ages (100 was used as the fictional cutoff point)."
   ]
  },
  {
   "cell_type": "code",
   "execution_count": 14,
   "id": "c79e0f40",
   "metadata": {},
   "outputs": [
    {
     "name": "stdout",
     "output_type": "stream",
     "text": [
      "Even numbers are [6, 10, 10, 10, 50, 62]\n",
      "Odd numbers are [1, 3, 5, 7, 7, 9, 21, 23, 25, 27, 27, 31, 33, 51, 57, 63, 99]\n",
      "Greater than 100 numbers are [335, 104, 633, 100, 1004]\n"
     ]
    }
   ],
   "source": [
    "family_ages = [1,3,335,5,6,7,7,9,10,10,10,21,23,25,27,27,31,33,50,51,57,104,62,63,633,99,100,1004]\n",
    "is_even = []\n",
    "is_odd = []\n",
    "greater_than_100 = []\n",
    "\n",
    "for age in family_ages:\n",
    "    if age %2 == 0 and age < 100:\n",
    "        is_even.append(age)\n",
    "    elif age %2 !=0 and age < 100:\n",
    "        is_odd.append(age)\n",
    "    else:\n",
    "        greater_than_100.append(age)\n",
    "\n",
    "print(\"Even numbers are\", is_even)\n",
    "print(\"Odd numbers are\", is_odd)\n",
    "print(\"Greater than 100 numbers are\", greater_than_100)"
   ]
  },
  {
   "cell_type": "markdown",
   "id": "98754e79",
   "metadata": {},
   "source": [
    "Simple while loop that iterates a number from 1 until it reaches 10."
   ]
  },
  {
   "cell_type": "code",
   "execution_count": 15,
   "id": "e1a7ea01",
   "metadata": {},
   "outputs": [
    {
     "name": "stdout",
     "output_type": "stream",
     "text": [
      "1\n",
      "2\n",
      "3\n",
      "4\n",
      "5\n",
      "6\n",
      "7\n",
      "8\n",
      "9\n",
      "1\n",
      "2\n",
      "3\n",
      "4\n",
      "5\n",
      "6\n",
      "7\n",
      "8\n",
      "9\n",
      "i is now greater than 9\n"
     ]
    }
   ],
   "source": [
    "i = 1\n",
    "while i < 10:\n",
    "    print(i)\n",
    "    i += 1\n",
    "    \n",
    "# expanded\n",
    "i = 1\n",
    "while i < 10:\n",
    "    print(i)\n",
    "    i += 1\n",
    "else:\n",
    "    print(\"i is now greater than 9\")"
   ]
  },
  {
   "cell_type": "markdown",
   "id": "5d99bc2c",
   "metadata": {},
   "source": [
    "An expanded while loop that starts at 0 and ends at 99.\n",
    "While iterating, the loop also sums all integers in the end list."
   ]
  },
  {
   "cell_type": "code",
   "execution_count": 16,
   "id": "fe649e54",
   "metadata": {},
   "outputs": [
    {
     "name": "stdout",
     "output_type": "stream",
     "text": [
      "5050\n"
     ]
    }
   ],
   "source": [
    "start = 0\n",
    "end = []\n",
    "total = 0\n",
    "\n",
    "while start < 100:\n",
    "    start += 1\n",
    "    end.append(start)\n",
    "\n",
    "total = sum(end)\n",
    "print(total)"
   ]
  },
  {
   "cell_type": "markdown",
   "id": "08c394d3",
   "metadata": {},
   "source": [
    "If statement using input to determine which number is the greatest."
   ]
  },
  {
   "cell_type": "code",
   "execution_count": 17,
   "id": "c7db1689",
   "metadata": {},
   "outputs": [
    {
     "name": "stdout",
     "output_type": "stream",
     "text": [
      "Please enter your first number: 5\n",
      "Please enter your second number: 55\n",
      "Please enter your third number: 5.5\n",
      "Your third number has the greatest value\n"
     ]
    }
   ],
   "source": [
    "a = input(\"Please enter your first number: \")\n",
    "b = input(\"Please enter your second number: \")\n",
    "c = input(\"Please enter your third number: \")\n",
    "\n",
    "if a > b and a > c:\n",
    "    print(\"Your first number has the greatest value\")\n",
    "elif a < b and a > c:\n",
    "    print(\"Your second number has the greatest value\")\n",
    "else:\n",
    "    print(\"Your third number has the greatest value\")"
   ]
  }
 ],
 "metadata": {
  "kernelspec": {
   "display_name": "Python 3",
   "language": "python",
   "name": "python3"
  },
  "language_info": {
   "codemirror_mode": {
    "name": "ipython",
    "version": 3
   },
   "file_extension": ".py",
   "mimetype": "text/x-python",
   "name": "python",
   "nbconvert_exporter": "python",
   "pygments_lexer": "ipython3",
   "version": "3.8.8"
  }
 },
 "nbformat": 4,
 "nbformat_minor": 5
}
