{
 "cells": [
  {
   "cell_type": "markdown",
   "id": "38865136",
   "metadata": {},
   "source": [
    "# Python Basics"
   ]
  },
  {
   "cell_type": "markdown",
   "id": "15bac8ee",
   "metadata": {},
   "source": [
    "Basic Python data types are: string, integer, float, list, tuple, dictionary, Boolean"
   ]
  },
  {
   "cell_type": "code",
   "execution_count": 16,
   "id": "d5b5505a",
   "metadata": {},
   "outputs": [],
   "source": [
    "String_Name = \"JT\"\n",
    "\n",
    "Integer_Age = 28\n",
    "\n",
    "Float_Height = 70.5\n",
    "\n",
    "List_Fav_Teams = [\"Steelers\", \"Cavaliers\", \"Guardians\", \"Ohio State\"]\n",
    "\n",
    "Tuple_Distance = (1.2,2.8,2.0,3.1,1.7,2.0)\n",
    "\n",
    "Dictionary_Schooling = {\"MBA\": \"WGU\", \"Bachelors\": \"Park University\", \"Associates\": \"Air University\"}\n",
    "\n",
    "Boolean_Male = True"
   ]
  },
  {
   "cell_type": "markdown",
   "id": "777d7ae5",
   "metadata": {},
   "source": [
    "Strings: Are designated with a ' ' or \" \""
   ]
  },
  {
   "cell_type": "code",
   "execution_count": 17,
   "id": "0ee31b5a",
   "metadata": {},
   "outputs": [],
   "source": [
    "S = \"Brutus is a chocolate lab\""
   ]
  },
  {
   "cell_type": "markdown",
   "id": "9ddf0c8c",
   "metadata": {},
   "source": [
    "Strings can also be indexed using a [ ]"
   ]
  },
  {
   "cell_type": "code",
   "execution_count": 18,
   "id": "d4116869",
   "metadata": {},
   "outputs": [
    {
     "name": "stdout",
     "output_type": "stream",
     "text": [
      "s\n",
      "Buu sacooae\n",
      "22\n"
     ]
    }
   ],
   "source": [
    "print(S[5])\n",
    "print(S[0:22:2])\n",
    "lab = S.index(\"lab\")\n",
    "print(lab)"
   ]
  },
  {
   "cell_type": "markdown",
   "id": "c5c3db8f",
   "metadata": {},
   "source": [
    "Strings can be converted to upper or lower case using .upper( ) and .lower( )"
   ]
  },
  {
   "cell_type": "code",
   "execution_count": 19,
   "id": "f83640f0",
   "metadata": {},
   "outputs": [
    {
     "name": "stdout",
     "output_type": "stream",
     "text": [
      "BRUTUS IS A CHOCOLATE LAB\n",
      "brutus is a chocolate lab\n"
     ]
    }
   ],
   "source": [
    "U = S.upper()\n",
    "C = S.lower()\n",
    "print(U)\n",
    "print(C)"
   ]
  },
  {
   "cell_type": "markdown",
   "id": "12ecc610",
   "metadata": {},
   "source": [
    "Integer and Float data types are whole numbers and decimal point numbers respectfully"
   ]
  },
  {
   "cell_type": "code",
   "execution_count": 20,
   "id": "73a693e4",
   "metadata": {},
   "outputs": [],
   "source": [
    "Day = 15\n",
    "Tomorrow = 16\n",
    "Friday = 17\n",
    "Time = 12.5\n",
    "One_Hour = 13.5\n",
    "Two_Hour = 14.5"
   ]
  },
  {
   "cell_type": "markdown",
   "id": "15a08081",
   "metadata": {},
   "source": [
    "Integer and Float data types can be compared. They can also be used with math operators"
   ]
  },
  {
   "cell_type": "code",
   "execution_count": 21,
   "id": "4bfb0a02",
   "metadata": {},
   "outputs": [
    {
     "name": "stdout",
     "output_type": "stream",
     "text": [
      "False\n",
      "True\n",
      "32\n",
      "1.0\n"
     ]
    }
   ],
   "source": [
    "Compare_Day = Day > Tomorrow\n",
    "Compare_Time = One_Hour != Two_Hour\n",
    "print(Compare_Day)\n",
    "print(Compare_Time)\n",
    "\n",
    "Result = Day + Friday\n",
    "Watch = One_Hour - Time\n",
    "print(Result)\n",
    "print(Watch)"
   ]
  },
  {
   "cell_type": "markdown",
   "id": "f17141a8",
   "metadata": {},
   "source": [
    "Lists, designated with [ ], can be strings, integers, floats, Booleans, tuples, dictionaries, or a combination"
   ]
  },
  {
   "cell_type": "code",
   "execution_count": 22,
   "id": "c8fb1b42",
   "metadata": {},
   "outputs": [
    {
     "name": "stdout",
     "output_type": "stream",
     "text": [
      "['Apple', 1, 4.7, False, ('Yes', 'No'), {'Name': 'Man'}]\n"
     ]
    }
   ],
   "source": [
    "Example = [\"Apple\", 1, 4.7, False, (\"Yes\", \"No\"), {\"Name\": \"Man\"}]\n",
    "print(Example)"
   ]
  },
  {
   "cell_type": "markdown",
   "id": "36c374f7",
   "metadata": {},
   "source": [
    "Lists can be appended and popped"
   ]
  },
  {
   "cell_type": "code",
   "execution_count": 23,
   "id": "2f342bf1",
   "metadata": {},
   "outputs": [
    {
     "name": "stdout",
     "output_type": "stream",
     "text": [
      "[1, 11, 2, 22, 3, 33, 4, 44, 5, 55, 6, 66, 7, 77, 8, 88, 9, 99]\n",
      "[1, 11, 2, 22, 3, 33, 4, 44, 55, 6, 66, 7, 77, 8, 88, 9, 99]\n"
     ]
    }
   ],
   "source": [
    "L = [1,11,2,22,3,33,4,44,5,55,6,66,7,77,8,88,9]\n",
    "L.append(99)\n",
    "print(L)\n",
    "L.pop(8)\n",
    "print(L)"
   ]
  },
  {
   "cell_type": "markdown",
   "id": "20cec640",
   "metadata": {},
   "source": [
    "Lists can also be indexed and copied"
   ]
  },
  {
   "cell_type": "code",
   "execution_count": 24,
   "id": "b08123a7",
   "metadata": {},
   "outputs": [
    {
     "name": "stdout",
     "output_type": "stream",
     "text": [
      "[11, 2, 22]\n",
      "[1, 11, 2, 22, 3, 33, 4, 44, 55, 6, 66, 7, 77, 8, 88, 9, 99]\n"
     ]
    }
   ],
   "source": [
    "print(L[1:4])\n",
    "\n",
    "M = L.copy()\n",
    "print(M)"
   ]
  },
  {
   "cell_type": "markdown",
   "id": "ec627c31",
   "metadata": {},
   "source": [
    "Tuples are immutable and are designated with a ( )"
   ]
  },
  {
   "cell_type": "code",
   "execution_count": 26,
   "id": "364884df",
   "metadata": {},
   "outputs": [
    {
     "name": "stdout",
     "output_type": "stream",
     "text": [
      "('ABCD', 12345, 'Lake Example, USA')\n"
     ]
    }
   ],
   "source": [
    "Client1 = (\"ABCD\", 12345, \"Lake Example, USA\")\n",
    "Client2 = (\"ZYX\", 9876, \"Somewhere Else, USA\")\n",
    "print(Client1)"
   ]
  },
  {
   "cell_type": "markdown",
   "id": "3a706ee7",
   "metadata": {},
   "source": [
    "The dictionary data type utilizes a key:value pair within { }.\n",
    "You can refer to the pairs by key name."
   ]
  },
  {
   "cell_type": "code",
   "execution_count": 28,
   "id": "0c176f2e",
   "metadata": {},
   "outputs": [
    {
     "name": "stdout",
     "output_type": "stream",
     "text": [
      "{'Name': 'Chase Claypool', 'Team': 'Pittsburgh Steelers', 'Position': 'Wide Receiver', 'College': 'Notre Dame'}\n",
      "Notre Dame\n"
     ]
    }
   ],
   "source": [
    "Player = {\"Name\": \"Chase Claypool\", \"Team\": \"Pittsburgh Steelers\", \"Position\": \"Wide Receiver\", \"College\": \"Notre Dame\"}\n",
    "print(Player)\n",
    "print(Player[\"College\"])"
   ]
  },
  {
   "cell_type": "markdown",
   "id": "869d2a7f",
   "metadata": {},
   "source": [
    "Boolean values are either True or False"
   ]
  },
  {
   "cell_type": "code",
   "execution_count": 29,
   "id": "054aad10",
   "metadata": {},
   "outputs": [
    {
     "name": "stdout",
     "output_type": "stream",
     "text": [
      "B is greater than A\n"
     ]
    }
   ],
   "source": [
    "A = 15\n",
    "B = 50\n",
    "\n",
    "if B > A:\n",
    "    print(\"B is greater than A\")\n",
    "else:\n",
    "    print(\"A is greater than B\")"
   ]
  }
 ],
 "metadata": {
  "kernelspec": {
   "display_name": "Python 3",
   "language": "python",
   "name": "python3"
  },
  "language_info": {
   "codemirror_mode": {
    "name": "ipython",
    "version": 3
   },
   "file_extension": ".py",
   "mimetype": "text/x-python",
   "name": "python",
   "nbconvert_exporter": "python",
   "pygments_lexer": "ipython3",
   "version": "3.8.8"
  }
 },
 "nbformat": 4,
 "nbformat_minor": 5
}
